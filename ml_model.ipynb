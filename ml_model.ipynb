{
  "cells": [
    {
      "cell_type": "code",
      "execution_count": null,
      "metadata": {
        "id": "PL4BRFEyJAok"
      },
      "outputs": [],
      "source": [
        "!unzip /content/profession.zip -d my_data"
      ]
    },
    {
      "cell_type": "code",
      "execution_count": null,
      "metadata": {
        "id": "-0KoZ7IyJzin"
      },
      "outputs": [],
      "source": [
        "import os\n",
        "import sqlite3\n",
        "import pandas as pd\n",
        "\n",
        "\"\"\"\n",
        "Строчки для формирования pandas.DataFrame спарсенных данных\n",
        "Спарсенные данные представляют собой 21 файл формата .dp\n",
        "Каждый файл назван в соотвествии с профессией\n",
        "\"\"\"\n",
        "\n",
        "tables = []\n",
        "\n",
        "professions = os.listdir('/content/my_data/professions')\n",
        "for profession in professions:\n",
        "    path = os.path.join('/content/my_data/professions', profession)\n",
        "    dat = sqlite3.connect(path)\n",
        "    query = dat.execute(\"SELECT * From mytable\")\n",
        "    cols = [column[0] for column in query.description]\n",
        "    results = pd.DataFrame.from_records(data = query.fetchall(), columns = cols)\n",
        "    results['profession'] = profession[:-3]\n",
        "    tables.append(results)\n",
        "\n",
        "df = pd.concat(tables)\n",
        "df = df.sample(frac=1).reset_index(drop=True).head()"
      ]
    },
    {
      "cell_type": "code",
      "execution_count": null,
      "metadata": {
        "id": "ZMk8vW9JDmdt"
      },
      "outputs": [],
      "source": [
        "!pip install pymorphy2\n",
        "!pip install navec\n",
        "!wget -c https://storage.yandexcloud.net/natasha-navec/packs/navec_hudlit_v1_12B_500K_300d_100q.tar"
      ]
    },
    {
      "cell_type": "code",
      "execution_count": null,
      "metadata": {
        "id": "SqE3MmZWOhLg"
      },
      "outputs": [],
      "source": [
        "from catboost import CatBoostClassifier, Pool\n",
        "import numpy as np\n",
        "import pymorphy2\n",
        "from navec import Navec\n",
        "import nltk\n",
        "from nltk.tokenize import word_tokenize\n",
        "\n",
        "nltk.download('punkt')\n",
        "\n",
        "'''\n",
        "Реализован класс для предобработки данных\n",
        "Столбцы, содержащие название вузов категориально кодируются\n",
        "Столбец, содержащий информацию о группах, на которые подписан пользователь,\n",
        "лемматизируется и представляется в виде среднего вектора w2v\n",
        "'''\n",
        "class PreProcessing():\n",
        "    def __init__(self):\n",
        "        self.morph = pymorphy2.MorphAnalyzer()\n",
        "        self.tokenize = lambda word: word_tokenize(word)\n",
        "        self.navec = Navec.load('navec_hudlit_v1_12B_500K_300d_100q.tar')\n",
        "        self.model = CatBoostClassifier()\n",
        "\n",
        "    def transform(self, df, mode='train'):\n",
        "        lemmatize_word = lambda word: self.morph.parse(word)[0].normal_form\n",
        "\n",
        "        columns = ['chair_name', 'name', 'faculty_name', 'groups']\n",
        "        labels = None\n",
        "        if mode == 'train':\n",
        "            labels = df['profession']\n",
        "\n",
        "        df = df[columns].replace('', 'No information available')\n",
        "\n",
        "        df['groups'] = df.apply(lambda row: ' '.join(row), axis=1)\n",
        "        df['groups'] = df['groups'].apply(lambda x: ' '.join([lemmatize_word(word) for word in x.split()]))\n",
        "        df['groups'] = df['groups'].apply(lambda x: ' '.join(self.tokenize(x)))\n",
        "\n",
        "        data = []\n",
        "\n",
        "        for text in df['groups'].tolist():\n",
        "            text = [self.navec[word] if word in self.navec else self.navec['<unk>'] for word in text.split()]\n",
        "            text = np.mean(text, axis=0)\n",
        "            data.append(text)\n",
        "\n",
        "        for i in range(300):\n",
        "            col_name = f'word2vec_feature_{i}'\n",
        "            df[col_name] = [vector[i] for vector in data]\n",
        "        df = df.drop(['groups'], axis=1)\n",
        "        return df, labels\n",
        "\n",
        "    def predict(self, df):\n",
        "        self.model = self.model.load_model('path')\n",
        "        return self.model.predict_proba(df)"
      ]
    },
    {
      "cell_type": "code",
      "execution_count": null,
      "metadata": {
        "id": "W33IWt9N4Xz7"
      },
      "outputs": [],
      "source": [
        "preproc = PreProcessing()\n",
        "data, _labels = preproc.transform(df, mode='test')"
      ]
    },
    {
      "cell_type": "code",
      "execution_count": null,
      "metadata": {
        "id": "SLTN3UfkO9tS"
      },
      "outputs": [],
      "source": [
        "!pip install catboost"
      ]
    },
    {
      "cell_type": "code",
      "execution_count": null,
      "metadata": {
        "id": "iOJlVbCzbwlS"
      },
      "outputs": [],
      "source": [
        "from sklearn.model_selection import train_test_split\n",
        "\n",
        "X_train, X_val, y_train, y_val = train_test_split(data, labels)"
      ]
    },
    {
      "cell_type": "code",
      "execution_count": null,
      "metadata": {
        "colab": {
          "base_uri": "https://localhost:8080/"
        },
        "id": "hpmSQHVZbiBn",
        "outputId": "fec31b16-4c20-45aa-dec1-3767532bfcd7"
      },
      "outputs": [
        {
          "output_type": "stream",
          "name": "stdout",
          "text": [
            "Learning rate set to 0.114166\n",
            "0:\tlearn: 0.1280488\ttest: 0.1130611\tbest: 0.1130611 (0)\ttotal: 3.65s\tremaining: 1h 48s\n",
            "50:\tlearn: 0.3660384\ttest: 0.2789581\tbest: 0.2789581 (50)\ttotal: 3m 41s\tremaining: 1h 8m 39s\n",
            "100:\tlearn: 0.4612589\ttest: 0.3271753\tbest: 0.3271753 (100)\ttotal: 7m 21s\tremaining: 1h 5m 33s\n",
            "150:\tlearn: 0.5261764\ttest: 0.3559948\tbest: 0.3559948 (150)\ttotal: 10m 53s\tremaining: 1h 1m 13s\n",
            "200:\tlearn: 0.5868441\ttest: 0.3657861\tbest: 0.3659708 (196)\ttotal: 14m 26s\tremaining: 57m 24s\n",
            "250:\tlearn: 0.6283567\ttest: 0.3748384\tbest: 0.3752078 (249)\ttotal: 18m 2s\tremaining: 53m 50s\n",
            "300:\tlearn: 0.6642646\ttest: 0.3816737\tbest: 0.3820432 (295)\ttotal: 21m 43s\tremaining: 50m 27s\n",
            "350:\tlearn: 0.6964154\ttest: 0.3857380\tbest: 0.3875854 (347)\ttotal: 25m 25s\tremaining: 46m 59s\n",
            "400:\tlearn: 0.7222222\ttest: 0.3886939\tbest: 0.3910955 (390)\ttotal: 29m 4s\tremaining: 43m 25s\n",
            "450:\tlearn: 0.7479059\ttest: 0.3920192\tbest: 0.3940514 (439)\ttotal: 32m 41s\tremaining: 39m 47s\n",
            "500:\tlearn: 0.7706332\ttest: 0.3971919\tbest: 0.3971919 (499)\ttotal: 36m 22s\tremaining: 36m 13s\n",
            "550:\tlearn: 0.7937300\ttest: 0.4003325\tbest: 0.4018105 (533)\ttotal: 39m 59s\tremaining: 32m 35s\n",
            "600:\tlearn: 0.8149791\ttest: 0.4001478\tbest: 0.4019952 (557)\ttotal: 43m 36s\tremaining: 28m 57s\n",
            "650:\tlearn: 0.8305617\ttest: 0.4036579\tbest: 0.4042121 (645)\ttotal: 47m 12s\tremaining: 25m 18s\n",
            "700:\tlearn: 0.8484848\ttest: 0.4097543\tbest: 0.4104933 (699)\ttotal: 50m 45s\tremaining: 21m 39s\n",
            "750:\tlearn: 0.8612343\ttest: 0.4114170\tbest: 0.4119712 (749)\ttotal: 54m 22s\tremaining: 18m 1s\n",
            "800:\tlearn: 0.8743533\ttest: 0.4112322\tbest: 0.4134491 (772)\ttotal: 58m\tremaining: 14m 24s\n",
            "850:\tlearn: 0.8890121\ttest: 0.4138186\tbest: 0.4143728 (848)\ttotal: 1h 1m 34s\tremaining: 10m 46s\n",
            "900:\tlearn: 0.9010840\ttest: 0.4114170\tbest: 0.4143728 (848)\ttotal: 1h 5m 14s\tremaining: 7m 10s\n",
            "950:\tlearn: 0.9088445\ttest: 0.4147423\tbest: 0.4151118 (936)\ttotal: 1h 8m 51s\tremaining: 3m 32s\n",
            "999:\tlearn: 0.9184528\ttest: 0.4151118\tbest: 0.4164050 (963)\ttotal: 1h 12m 24s\tremaining: 0us\n",
            "\n",
            "bestTest = 0.416404951\n",
            "bestIteration = 963\n",
            "\n",
            "Shrink model to first 964 iterations.\n"
          ]
        },
        {
          "output_type": "execute_result",
          "data": {
            "text/plain": [
              "<catboost.core.CatBoostClassifier at 0x7b9a40fa5330>"
            ]
          },
          "metadata": {},
          "execution_count": 46
        }
      ],
      "source": [
        "from catboost import CatBoostClassifier, Pool\n",
        "\n",
        "train_pool = Pool(X_train, y_train, cat_features=['chair_name', 'name', 'faculty_name'])\n",
        "test_pool = Pool(X_val, y_val, cat_features=['chair_name', 'name', 'faculty_name'])\n",
        "cb = CatBoostClassifier(loss_function='MultiClass', eval_metric='Accuracy')\n",
        "cb.fit(train_pool, eval_set=test_pool, verbose=50)"
      ]
    },
    {
      "cell_type": "code",
      "source": [
        "from sklearn.metrics import f1_score"
      ],
      "metadata": {
        "id": "ySsUUTm6hEq6"
      },
      "execution_count": null,
      "outputs": []
    },
    {
      "cell_type": "code",
      "source": [
        "y_pred = cb.predict(X_val)"
      ],
      "metadata": {
        "id": "RSEGqf3kg4Lv"
      },
      "execution_count": null,
      "outputs": []
    },
    {
      "cell_type": "code",
      "source": [
        "score = f1_score(y_val, y_pred, average=\"macro\")\n",
        "print(\"Macro F1-Score: \", score)\n",
        "\n",
        "score = f1_score(y_val, y_pred, average=\"micro\")\n",
        "print(\"Micro F1-Score: \", score)\n",
        "\n",
        "score = f1_score(y_val, y_pred, average=\"weighted\")\n",
        "print(\"Weighted F1-Score: \", score)"
      ],
      "metadata": {
        "colab": {
          "base_uri": "https://localhost:8080/"
        },
        "id": "G3C-xNDGhDF0",
        "outputId": "008c793e-bccd-4404-a58b-5d859d511ddb"
      },
      "execution_count": null,
      "outputs": [
        {
          "output_type": "stream",
          "name": "stdout",
          "text": [
            "Macro F1-Score:  0.4081806736992642\n",
            "Micro F1-Score:  0.4164049510437835\n",
            "Weighted F1-Score:  0.41278643006139554\n"
          ]
        }
      ]
    },
    {
      "cell_type": "code",
      "source": [
        "cb.save_model('model')"
      ],
      "metadata": {
        "id": "FvyHuEpLhY2m"
      },
      "execution_count": null,
      "outputs": []
    },
    {
      "cell_type": "code",
      "source": [
        "model.classes_"
      ],
      "metadata": {
        "colab": {
          "base_uri": "https://localhost:8080/"
        },
        "id": "O6hlNK52FTHY",
        "outputId": "421c5dc3-7296-4233-a71d-9fd7f698e849"
      },
      "execution_count": null,
      "outputs": [
        {
          "output_type": "execute_result",
          "data": {
            "text/plain": [
              "array(['agronom', 'analitik', 'architect', 'biology', 'bloger',\n",
              "       'buhgalter', 'doctor', 'fotograph', 'hudozhnik', 'parikmaher',\n",
              "       'pchelovod', 'perevodchik', 'povar', 'prodavec', 'programist',\n",
              "       'slesar', 'smm', 'stroitel', 'sysadmin', 'teacher', 'yurist'],\n",
              "      dtype=object)"
            ]
          },
          "metadata": {},
          "execution_count": 6
        }
      ]
    },
    {
      "cell_type": "code",
      "source": [
        "model.predict_proba(data)[1]"
      ],
      "metadata": {
        "colab": {
          "base_uri": "https://localhost:8080/"
        },
        "id": "-V9nNlQdIK15",
        "outputId": "6458d5d1-23bc-4a2b-931f-4b98cda8fc1c"
      },
      "execution_count": null,
      "outputs": [
        {
          "output_type": "execute_result",
          "data": {
            "text/plain": [
              "array([0.02227923, 0.00397339, 0.0561539 , 0.00952572, 0.01547192,\n",
              "       0.04253163, 0.00759451, 0.03554479, 0.02731024, 0.01861499,\n",
              "       0.00667605, 0.01333834, 0.57056178, 0.03376192, 0.0090315 ,\n",
              "       0.00550969, 0.02991629, 0.02112361, 0.01324047, 0.00546591,\n",
              "       0.05237415])"
            ]
          },
          "metadata": {},
          "execution_count": 23
        }
      ]
    }
  ],
  "metadata": {
    "colab": {
      "provenance": []
    },
    "kernelspec": {
      "display_name": "Python 3",
      "name": "python3"
    },
    "language_info": {
      "name": "python"
    }
  },
  "nbformat": 4,
  "nbformat_minor": 0
}